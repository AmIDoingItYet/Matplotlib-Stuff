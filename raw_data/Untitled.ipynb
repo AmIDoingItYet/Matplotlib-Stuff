{
 "cells": [
  {
   "cell_type": "markdown",
   "metadata": {},
   "source": [
    "## Unit 5 | Assignment - The Power of Plots\n",
    "\n",
    "## Background\n",
    "\n",
    "What good is data without a good plot to tell the story?\n",
    "\n",
    "So, let's take what you've learned about Python Matplotlib and apply it to some real-world situations. For this assignment, you'll need to complete **1 of 2** Data Challenges. As always, it's your choice which you complete. _Perhaps_, choose the one most relevant to your future career.\n",
    "\n",
    "## Option 1: Pyber\n",
    "\n",
    "![Ride](Images/Ride.png)\n",
    "\n",
    "The ride sharing bonanza continues! Seeing the success of notable players like Uber and Lyft, you've decided to join a fledgling ride sharing company of your own. In your latest capacity, you'll be acting as Chief Data Strategist for the company. In this role, you'll be expected to offer data-backed guidance on new opportunities for market differentiation.\n",
    "\n",
    "You've since been given access to the company's complete recordset of rides. This contains information about every active driver and historic ride, including details like city, driver count, individual fares, and city type.\n",
    "\n",
    "Your objective is to build a [Bubble Plot](https://en.wikipedia.org/wiki/Bubble_chart) that showcases the relationship between four key variables:\n",
    "\n",
    "* Average Fare ($) Per City\n",
    "* Total Number of Rides Per City\n",
    "* Total Number of Drivers Per City\n",
    "* City Type (Urban, Suburban, Rural)\n",
    "\n",
    "In addition, you will be expected to produce the following three pie charts:\n",
    "\n",
    "* % of Total Fares by City Type\n",
    "* % of Total Rides by City Type\n",
    "* % of Total Drivers by City Type\n",
    "\n",
    "As final considerations:\n",
    "\n",
    "* You must use the Pandas Library and the Jupyter Notebook.\n",
    "* You must use the Matplotlib libraries.\n",
    "* You must include a written description of three observable trends based on the data.\n",
    "* You must use proper labeling of your plots, including aspects like: Plot Titles, Axes Labels, Legend Labels, Wedge Percentages, and Wedge Labels.\n",
    "* Remember when making your plots to consider aesthetics!\n",
    "  * You must stick to the Pyber color scheme (Gold, Light Sky Blue, and Light Coral) in producing your plot and pie charts.\n",
    "  * When making your Bubble Plot, experiment with effects like `alpha`, `edgecolor`, and `linewidths`.\n",
    "  * When making your Pie Chart, experiment with effects like `shadow`, `startangle`, and `explosion`.\n",
    "* You must include an exported markdown version of your Notebook called  `README.md` in your GitHub repository.\n",
    "* See [Example Solution](Pyber/Pyber_Example.pdf) for a reference on expected format.\n"
   ]
  },
  {
   "cell_type": "code",
   "execution_count": null,
   "metadata": {},
   "outputs": [],
   "source": [
    "import numpy as np\n",
    "import matplotlib.pyplot as plt\n",
    "import pandas as pd\n",
    "ride_csv= \"../raw_data/ride_data.csv\"\n",
    "city_csv= \"../raw_data/city_data.csv\"\n",
    "ride_df = pd.read_csv(ride_csv)\n",
    "city_df = pd.read_csv(city_csv)\n",
    "data = pd.merge(ride_df,city_df, on='city', how='outer')"
   ]
  },
  {
   "cell_type": "code",
   "execution_count": null,
   "metadata": {},
   "outputs": [],
   "source": [
    "data.head()"
   ]
  },
  {
   "cell_type": "code",
   "execution_count": null,
   "metadata": {},
   "outputs": [],
   "source": [
    "unique_cities = data[\"city\"].unique()\n",
    "test = pd.DataFrame(unique_cities).reset_index()\n",
    "\n",
    "test"
   ]
  },
  {
   "cell_type": "code",
   "execution_count": null,
   "metadata": {
    "scrolled": true
   },
   "outputs": [],
   "source": [
    "pd.merge(data,test,onleft='city', onright=0, how='left')"
   ]
  },
  {
   "cell_type": "code",
   "execution_count": null,
   "metadata": {},
   "outputs": [],
   "source": [
    "total_rides= data.fare.count()\n",
    "avg_fare= (data.fare.sum() / total_rides)\n",
    "total_rides \n",
    "\n",
    "# avg_fare_by_city"
   ]
  },
  {
   "cell_type": "code",
   "execution_count": null,
   "metadata": {},
   "outputs": [],
   "source": [
    "# grouped_city = data.groupby('city')\n",
    "# total_rides_per_city\n",
    "# total_drivers_per_city\n",
    "# city_type\n",
    "# grouped_fare = data.groupby('fare')\n",
    "# # avg_fare_per_city\n",
    "# grouped_fare.head()\n",
    "# grouped_city.head()\n",
    "\n",
    "# data['City ID'] = ''\n",
    "# data"
   ]
  },
  {
   "cell_type": "code",
   "execution_count": null,
   "metadata": {
    "collapsed": true
   },
   "outputs": [],
   "source": [
    "# create city ID\n",
    "# create city only df \n",
    "#ask travis early in the morning on saturday"
   ]
  },
  {
   "cell_type": "code",
   "execution_count": null,
   "metadata": {
    "collapsed": true
   },
   "outputs": [],
   "source": [
    "# Create a title, x label, and y label for our chart\n",
    "plt.title(\"Pyber Ridesharing Data (2016)\")\n",
    "plt.xlabel(\"Total Rides (Per City)\")\n",
    "plt.ylabel(\"Average Fare (Dollars)\")"
   ]
  },
  {
   "cell_type": "code",
   "execution_count": null,
   "metadata": {
    "collapsed": true
   },
   "outputs": [],
   "source": [
    "# Tell matplotlib to create a scatter plot based total rides (per city) avg fare ($)\n",
    "plt.scatter(total_rides, avg_fare, marker=\"o\", facecolors=\"red\", edgecolors=\"black\")\n",
    "plt.show()"
   ]
  },
  {
   "cell_type": "code",
   "execution_count": null,
   "metadata": {},
   "outputs": [],
   "source": [
    "data.plot.scatter(x='city', y='fare', s=data['fare']*100);\n",
    "plt.show()"
   ]
  }
 ],
 "metadata": {
  "kernelspec": {
   "display_name": "Python 3",
   "language": "python",
   "name": "python3"
  },
  "language_info": {
   "codemirror_mode": {
    "name": "ipython",
    "version": 3
   },
   "file_extension": ".py",
   "mimetype": "text/x-python",
   "name": "python",
   "nbconvert_exporter": "python",
   "pygments_lexer": "ipython3",
   "version": "3.6.3"
  }
 },
 "nbformat": 4,
 "nbformat_minor": 2
}
